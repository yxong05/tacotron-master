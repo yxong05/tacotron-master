{
 "cells": [
  {
   "cell_type": "code",
   "execution_count": 1,
   "id": "7181d6b0",
   "metadata": {},
   "outputs": [
    {
     "name": "stdout",
     "output_type": "stream",
     "text": [
      "Requirement already satisfied: falcon==1.2.0 in c:\\users\\oyuxi\\anaconda3\\lib\\site-packages (from -r requirements.txt (line 3)) (1.2.0)\n",
      "Collecting inflect==0.2.5\n",
      "  Using cached inflect-0.2.5-py2.py3-none-any.whl (58 kB)\n",
      "Requirement already satisfied: librosa==0.5.1 in c:\\users\\oyuxi\\anaconda3\\lib\\site-packages (from -r requirements.txt (line 5)) (0.5.1)\n",
      "Collecting matplotlib==2.0.2\n",
      "  Using cached matplotlib-2.0.2.tar.gz (53.9 MB)\n",
      "  Preparing metadata (setup.py): started\n",
      "  Preparing metadata (setup.py): finished with status 'error'\n"
     ]
    },
    {
     "name": "stderr",
     "output_type": "stream",
     "text": [
      "  error: subprocess-exited-with-error\n",
      "  \n",
      "  python setup.py egg_info did not run successfully.\n",
      "  exit code: 1\n",
      "  \n",
      "  [63 lines of output]\n",
      "  ============================================================================\n",
      "  Edit setup.cfg to change the build options\n",
      "  \n",
      "  BUILDING MATPLOTLIB\n",
      "              matplotlib: yes [2.0.2]\n",
      "                  python: yes [3.9.13 (main, Aug 25 2022, 23:51:50) [MSC\n",
      "                          v.1916 64 bit (AMD64)]]\n",
      "                platform: yes [win32]\n",
      "  \n",
      "  REQUIRED DEPENDENCIES AND EXTENSIONS\n",
      "                   numpy: yes [version 1.21.5]\n",
      "                     six: yes [using six version 1.16.0]\n",
      "                dateutil: yes [using dateutil version 2.8.2]\n",
      "             functools32: yes [Not required]\n",
      "            subprocess32: yes [Not required]\n",
      "                    pytz: yes [using pytz version 2022.1]\n",
      "                  cycler: yes [using cycler version 0.10.0]\n",
      "                 tornado: yes [using tornado version 6.1]\n",
      "               pyparsing: yes [using pyparsing version 3.0.9]\n",
      "                  libagg: yes [pkg-config information for 'libagg' could not\n",
      "                          be found. Using local copy.]\n",
      "                freetype: no  [The C/C++ header for freetype (ft2build.h)\n",
      "                          could not be found.  You may need to install the\n",
      "                          development package.]\n",
      "                     png: no  [The C/C++ header for png (png.h) could not be\n",
      "                          found.  You may need to install the development\n",
      "                          package.]\n",
      "                   qhull: yes [pkg-config information for 'qhull' could not be\n",
      "                          found. Using local copy.]\n",
      "  \n",
      "  OPTIONAL SUBPACKAGES\n",
      "             sample_data: yes [installing]\n",
      "                toolkits: yes [installing]\n",
      "                   tests: no  [skipping due to configuration]\n",
      "          toolkits_tests: no  [skipping due to configuration]\n",
      "  \n",
      "  OPTIONAL BACKEND EXTENSIONS\n",
      "                  macosx: no  [Mac OS-X only]\n",
      "                  qt5agg: yes [installing, Qt: 5.9.7, PyQt: 5.9.7]\n",
      "                  qt4agg: no  [PySide not found; PyQt4 not found]\n",
      "                 gtk3agg: no  [Requires pygobject to be installed.]\n",
      "               gtk3cairo: no  [Requires cairocffi or pycairo to be installed.]\n",
      "                  gtkagg: no  [Requires pygtk]\n",
      "                   tkagg: yes [installing; run-time loading from Python Tcl /\n",
      "                          Tk]\n",
      "                   wxagg: no  [requires wxPython]\n",
      "                     gtk: no  [Requires pygtk]\n",
      "                     agg: yes [installing]\n",
      "                   cairo: no  [cairocffi or pycairo not found]\n",
      "               windowing: yes [installing]\n",
      "  \n",
      "  OPTIONAL LATEX DEPENDENCIES\n",
      "                  dvipng: no\n",
      "             ghostscript: no\n",
      "                   latex: no\n",
      "                 pdftops: no\n",
      "  \n",
      "  OPTIONAL PACKAGE DATA\n",
      "                    dlls: no  [skipping due to configuration]\n",
      "  \n",
      "  ============================================================================\n",
      "                          * The following required packages can not be built:\n",
      "                          * freetype, png\n",
      "  [end of output]\n",
      "  \n",
      "  note: This error originates from a subprocess, and is likely not a problem with pip.\n",
      "error: metadata-generation-failed\n",
      "\n",
      "Encountered error while generating package metadata.\n",
      "\n",
      "See above for output.\n",
      "\n",
      "note: This is an issue with the package mentioned above, not pip.\n",
      "hint: See above for details.\n"
     ]
    }
   ],
   "source": [
    "!pip install -r requirements.txt\n"
   ]
  },
  {
   "cell_type": "code",
   "execution_count": 2,
   "id": "4ecda89e",
   "metadata": {},
   "outputs": [
    {
     "name": "stderr",
     "output_type": "stream",
     "text": [
      "C:\\Users\\OYuXi\\Desktop\\tacotron-master\\datasets\\blizzard.py:29: SyntaxWarning: \"is not\" with a literal. Did you mean \"!=\"?\n",
      "  if line[0] is not '#' and len(parts) == 8 and float(parts[3]) > _min_confidence:\n",
      "Traceback (most recent call last):\n",
      "  File \"C:\\Users\\OYuXi\\Desktop\\tacotron-master\\preprocess.py\", line 5, in <module>\n",
      "    from datasets import blizzard, ljspeech\n",
      "  File \"C:\\Users\\OYuXi\\Desktop\\tacotron-master\\datasets\\blizzard.py\", line 5, in <module>\n",
      "    from hparams import hparams\n",
      "  File \"C:\\Users\\OYuXi\\Desktop\\tacotron-master\\hparams.py\", line 5, in <module>\n",
      "    hparams = tf.contrib.training.HParams(\n",
      "AttributeError: module 'tensorflow' has no attribute 'contrib'\n"
     ]
    }
   ],
   "source": [
    "!python preprocess.py --dataset ljspeech\n"
   ]
  },
  {
   "cell_type": "code",
   "execution_count": null,
   "id": "f9e2d51f",
   "metadata": {},
   "outputs": [],
   "source": [
    "!python train.py\n"
   ]
  },
  {
   "cell_type": "code",
   "execution_count": null,
   "id": "851ee0fc",
   "metadata": {},
   "outputs": [],
   "source": [
    "!tensorboard --logdir ~/tacotron/logs-tacotron\n"
   ]
  }
 ],
 "metadata": {
  "kernelspec": {
   "display_name": "Python 3 (ipykernel)",
   "language": "python",
   "name": "python3"
  },
  "language_info": {
   "codemirror_mode": {
    "name": "ipython",
    "version": 3
   },
   "file_extension": ".py",
   "mimetype": "text/x-python",
   "name": "python",
   "nbconvert_exporter": "python",
   "pygments_lexer": "ipython3",
   "version": "3.9.13"
  }
 },
 "nbformat": 4,
 "nbformat_minor": 5
}
